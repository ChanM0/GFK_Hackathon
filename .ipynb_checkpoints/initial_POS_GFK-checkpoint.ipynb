{
 "cells": [
  {
   "cell_type": "code",
   "execution_count": 144,
   "metadata": {},
   "outputs": [],
   "source": [
    "import pandas as pd\n",
    "import numpy as np\n",
    "from pandas import Series, DataFrame\n",
    "from decimal import Decimal\n",
    "pd.set_option('display.max_rows', 500)\n",
    "pd.set_option('display.max_columns', 1000)"
   ]
  },
  {
   "cell_type": "code",
   "execution_count": 145,
   "metadata": {},
   "outputs": [],
   "source": [
    "country_options = ['Germany','Great,Britain']\n",
    "channel_options = ['Consumer,Electronic,Stores','Mass,Merchandisers/DIYSs']\n",
    "year_options = [2016,2017,2018]\n",
    "smart_connect_options = ['SMART,APP,CTRL.','VOICE,INTERAC.','VOICE,CONT.ONLY','n.a.','NO',Decimal('nan')]\n",
    "smart_h_ecosys_options = ['n.a.','NOT,APPLICABLE','GOOG+AMZN','AMAZON,ALEXA','GOOGLE,HOME','APPLE,HOMEKIT',Decimal('nan')]\n",
    "operating_ai_options = ['n.a.','NOT,APPLICABLE','GOOGLE,ASSISTAN','APPLE,SIRI','AMAZON,ALEXA',Decimal('nan')]\n",
    "airplay_options = ['NO,AIRPLAY','AIRPLAY',Decimal('nan')]\n",
    "googlecast_home_options = ['n.a.','NO,GOOGLECAST','GOOGLECAST/HOME',Decimal('nan')]\n",
    "bluetooth_options = ['WITH,BLUETOOTH','W/O,BLUETOOTH','OPTIONAL',Decimal('nan')]\n",
    "ethernet_options = ['NO,ETHERNET','ETHERNET',Decimal('nan')]\n",
    "wifi_options = ['WIFI,BUILT-IN','NO,WIFI','WIFI,READY',Decimal('nan')]\n",
    "high_res_audio_options = ['NO,HIGH-RES,AUD','HIGH-RES,AUDIO','n.a.',Decimal('nan')]\n",
    "type_of_docking_options = ['BLUETOOTH,ONLY','NO,DOCKING/STRE','IOS/AIRPLAY','OTH.DOCK/STREAM','ANDR/GOOGLE,HOM','MULTIPLE']\n",
    "multiroom_options = ['MULTIROOM','NO,MULTIROOM',Decimal('nan')]\n",
    "no_speakerboxes_options = ['1','n.a.','0','2']\n",
    "output_channel_options = [2,0]\n",
    "streaming_connection_options = ['Bluetooth+Wifi','Bluetooth+Ethernet+Wifi','Wifi+Ethernet','Wifi','Ethernet','Bluetooth+Ethernet',Decimal('nan')]\n",
    "streaming_technology_options = ['BT+UPNP','Proprietary,+BT','Bluetooth','n.a.','UPNP','BT+Airplay+UPNP',\n",
    "                                'Proprietary,+BT,+Airplay,+UPNP','Airplay+UPNP','BT+Airplay,+UPNP,+Google,Cast/Home',\n",
    "                                'Proprietary','Airplay','BT+UPNP,+Google,Cast/Home','BT+Google,Cast/Home','Bluetooth+Airplay',\n",
    "                                'BT+Airplay,+Google,Cast/Home','Proprietary,+BT,+Airplay','Proprietary+Airplay',Decimal('nan')]\n",
    "usb_connection_options = ['NO,USB','USB,TYPE-A/B',Decimal('nan')]\n",
    "wattage_total_options = ['unknown','40','70','30','110','80','n.a.','150','90','60','45','300','5'\n",
    "                         ,'240','140','154','50','20','29','75','14','55','92','38','15','320','25'\n",
    "                         ,'10','72','13','100','130','200','120','18','65','250','180','175','36'\n",
    "                         ,'17','450',Decimal('nan'),'35']"
   ]
  },
  {
   "cell_type": "code",
   "execution_count": 147,
   "metadata": {},
   "outputs": [
    {
     "name": "stderr",
     "output_type": "stream",
     "text": [
      "/Users/mike/anaconda3/lib/python3.7/site-packages/ipykernel_launcher.py:54: FutureWarning: specifying 'categories' or 'ordered' in .astype() is deprecated; pass a CategoricalDtype instead\n"
     ]
    }
   ],
   "source": [
    "data = pd.DataFrame()\n",
    "\n",
    "pivot_data_table = pd.DataFrame()\n",
    "data_stats_table = pd.DataFrame()\n",
    "\n",
    "address = './CSV_FILES/GfK_POS_Tracking-Smart_Audio_Home_Systems_DE_&_UK_python.csv'\n",
    "\n",
    "unique_ids =[]\n",
    "\n",
    "class sanitizeDataFrame():\n",
    "    def __init__(self,data):\n",
    "        self.data = data \n",
    "        self.monthsOrdered = ['16-Dec', '17-Jan', '17-Feb', '17-Mar', '17-Apr', '17-May', '17-Jun', '17-Jul', '17-Aug', '17-Sep', '17-Oct', '17-Nov', '17-Dec', '18-Jan', '18-Feb', '18-Mar', '18-Apr', '18-May','18-Jun', '18-Jul', '18-Aug', '18-Sep', '18-Oct', '18-Nov']\n",
    "        self.columnsThatNeedATypeChange = ['sales_units', 'sales_value_eur', 'price_eur', 'sales_value_usd', 'price_usd']\n",
    "        self.columnsToBeSortedBy = ['id','channel' ,'year','period']\n",
    "        self.pivotcolumnsToBeSortedBy = ['id']\n",
    "        self.setColumnNames = ['COUNTRY','CHANNEL' ,'BRAND','MODEL', 'ID','YEAR','PERIOD','SMART CONNECT','SMART H. ECOSYS', 'OPERATING AI','AIRPLAY','GOOGLECAST/HOME','BLUETOOTH','ETHERNET','WIFI','HEIGHT IN MM','WIDTH IN MM','HIGH-RES AUDIO', 'TYPE OF DOCKING','MULTIROOM','NO.SPEAKERBOXES','OUTPUT CHANNEL','Streaming Connection','Streaming Technology', 'USB CONNECTION','WATTAGE TOTAL','Sales Units','Sales Value EUR','Price EUR','Sales Value USD','Price USD']\n",
    "        self.measurements_columns = ['height_in_mm','width_in_mm']\n",
    "        self.key_stats_columns = [ 'id', 'country', 'channel', 'year', 'period', 'height_in_mm', 'width_in_mm','sales_units', 'sales_value_eur', 'price_eur', 'sales_value_usd', 'price_usd']\n",
    "        self.pivot_key_columns = ['id','brand', 'model', 'height_in_mm', 'width_in_mm','smart_connect', 'smart_h._ecosys', 'operating_ai', 'airplay', 'googlecast/home', 'bluetooth', 'ethernet', 'wifi', 'height_in_mm', 'width_in_mm', 'high-res_audio', 'type_of_docking', 'multiroom', 'no.speakerboxes', 'output_channel', 'streaming_connection', 'streaming_technology', 'usb_connection', 'wattage_total']\n",
    "\n",
    "\n",
    "        self.sanitize_df()\n",
    "        \n",
    "    def set_column_names(self):\n",
    "        self.data.columns = self.setColumnNames\n",
    "\n",
    "    def set_column_names_to_lower(self):\n",
    "        self.data.columns.str.replace(' ', '_').str.replace('.','').str.lower()\n",
    "\n",
    "    def set_column_period_to_ordered_months(self):\n",
    "        self.data.period.astype('category',categories=monthsOrdered)\n",
    "\n",
    "    def set_to_numeric_for_these_columns(self,cols):\n",
    "        for col in cols:\n",
    "            self.data[col] = self.data[col].str.replace(',','').str.lower()\n",
    "            self.data[col] = self.data[col].apply(pd.to_numeric, errors='coerce')\n",
    "\n",
    "    def set_to_numeric_for_mesurement_columns(self,cols):\n",
    "        for col in cols:\n",
    "            self.data[col] = self.data[col].apply(pd.to_numeric, errors='coerce')\n",
    "\n",
    "    def sort_values_based_on_these_columns(self,cols):\n",
    "        self.data = self.data.sort_values(cols,inplace=False)\n",
    "\n",
    "    def sanitize_df(self):\n",
    "        self.data.columns = set_column_names(self.data)\n",
    "        self.data.columns = set_column_names_to_lower(self.data)\n",
    "        self.data.period = set_column_period_to_ordered_months(self.data)\n",
    "        self.data = set_to_numeric_for_these_columns(self.data,self.columnsThatNeedATypeChange)\n",
    "        self.data = set_to_numeric_for_mesurement_columns(self.data,self.measurements_columns)\n",
    "        self.data = sort_values_based_on_these_columns(self.data,self.columnsToBeSortedBy)\n",
    "\n",
    "    def get_df(self):\n",
    "        return self.data\n",
    "    \n",
    "    def get_pivot_and_stats_data_tables(self):\n",
    "        pivot_data_table = self.data.filter(items=self.pivot_key_columns)\n",
    "        data_stats_table = self.data.filter(items=self.key_stats_columns)\n",
    "        pivot_data_table = self.sort_df_values_based_on_these_columns(pivot_data_table,self.pivotcolumnsToBeSortedBy)\n",
    "        data_stats_table = self.sort_df_values_based_on_these_columns(data_stats_table,self.columnsToBeSortedBy)\n",
    "        return pivot_data_table,data_stats_table\n",
    "    \n",
    "    def sort_df_values_based_on_these_columns(self,df,cols):\n",
    "        df = df.sort_values(cols,inplace=False)\n",
    "        return df\n",
    "\n",
    "    \n",
    "class determineStats():\n",
    "    def __init__(self):\n",
    "        self.sumCol = col + '_sum'\n",
    "        self.sumCol = col + '_sum'\n",
    "        self.meanCol = col + '_mean'\n",
    "        self.medianCol = col + '_median'\n",
    "        self.modeCol = col + '_mode'\n",
    "        self.stdCol = col + '_std'\n",
    "        self.minCol = col + '_min'\n",
    "        self.maxCol = col + '_max'\n",
    "        self.sales_columns =  ['sales_units', 'sales_value_eur', 'price_eur', 'sales_value_usd', 'price_usd']\n",
    "        self.measurements_columns = ['height_in_mm','width_in_mm']\n",
    "        pass\n",
    "\n",
    "    def give_describe_characterisitcs(firstRow,df,col):\n",
    "        firstRow[self.sumCol]  = df[col].sum()\n",
    "        firstRow[self.meanCol] = df[col].mean()\n",
    "        firstRow[self.medianCol] = df[col].median()\n",
    "        firstRow[self.modeCol] = df[col].mode()\n",
    "        firstRow[self.stdCol] = df[col].std()\n",
    "        firstRow[self.minCol] = df[col].min()\n",
    "        firstRow[self.maxCol] = df[col].max()\n",
    "        return firstRow\n",
    "\n",
    "    def get_describe_characterisitcs_for_sales_columns(firstRow,df,cols):\n",
    "        for col in cols:\n",
    "            firstRow = give_describe_characterisitcs(firstRow,df,col)\n",
    "        return firstRow\n",
    "\n",
    "    def get_describe_characterisitcs_for_measurement_columns(firstRow,df,cols):\n",
    "        dfWithOutHeightAndWidth = df.dropna(subset=['height_in_mm','width_in_mm'],how='any')\n",
    "        for col in cols:\n",
    "            firstRow = give_describe_characterisitcs(firstRow,dfWithOutHeightAndWidth,col)\n",
    "        return firstRow\n",
    "\n",
    "    def sort_by_id(df):\n",
    "        i = 1\n",
    "        dfBasedOnID = pd.DataFrame()\n",
    "        for uid in unique_ids:\n",
    "            allDataBasedOnThisID = df[df['id']==uid]\n",
    "            try:\n",
    "                firstRow = allDataBasedOnThisID.iloc[0]\n",
    "                try:\n",
    "                    firstRow = get_describe_characterisitcs_for_sales_columns(firstRow,allDataBasedOnThisID,self.sales_columns)\n",
    "                    try:\n",
    "                        dfBasedOnID = dfBasedOnID.append(firstRow, ignore_index=True)\n",
    "                    except:\n",
    "                        print('cant append to dataframe')    \n",
    "                except:\n",
    "                    print('cant return first row for sales columns')\n",
    "            except:\n",
    "                print('no Id')\n",
    "            i += 1\n",
    "            print(i)\n",
    "            if(i > 20):\n",
    "                break\n",
    "\n",
    "        return dfBasedOnID\n",
    "    \n",
    "    \n",
    "def find_unique_of_this_column(data,col):\n",
    "    return data[col].unique()\n",
    "        \n",
    "\n",
    "    \n",
    "\n",
    "def read_csv():\n",
    "    data = pd.read_csv(address,low_memory=False)\n",
    "    return data\n",
    "\n",
    "\n",
    "\n",
    "\n",
    "\n",
    "def main():\n",
    "    '''\n",
    "    send list of files to be parsed\n",
    "    '''\n",
    "    global unique_ids\n",
    "    global data\n",
    "    global pivot_data_table, data_stats_table\n",
    "    data = read_csv()\n",
    "    santizeData = sanitizeDataFrame(data)\n",
    "    data = santizeData.get_df()\n",
    "    pivot_data_table,data_stats_table = santizeData.get_pivot_and_stats_data_tables()\n",
    "    unique_ids = find_unique_of_this_column(data,'id')\n",
    "    \n",
    "#     create_specific_dfs(data)\n",
    "    \n",
    "    \n",
    "    \n",
    "\n",
    "if __name__ == \"__main__\": main()\n",
    "\n"
   ]
  },
  {
   "cell_type": "code",
   "execution_count": 137,
   "metadata": {},
   "outputs": [],
   "source": [
    "data"
   ]
  },
  {
   "cell_type": "code",
   "execution_count": null,
   "metadata": {},
   "outputs": [],
   "source": []
  },
  {
   "cell_type": "code",
   "execution_count": 136,
   "metadata": {},
   "outputs": [],
   "source": [
    "# data.dtypes"
   ]
  },
  {
   "cell_type": "code",
   "execution_count": 109,
   "metadata": {},
   "outputs": [],
   "source": [
    "def create_df_by_unique_id_only():\n",
    "    pass\n",
    "\n",
    "    \n"
   ]
  },
  {
   "cell_type": "code",
   "execution_count": null,
   "metadata": {},
   "outputs": [],
   "source": []
  },
  {
   "cell_type": "code",
   "execution_count": 110,
   "metadata": {},
   "outputs": [],
   "source": [
    "def create_specific_dfs(data):\n",
    "    pass"
   ]
  },
  {
   "cell_type": "code",
   "execution_count": null,
   "metadata": {},
   "outputs": [],
   "source": []
  },
  {
   "cell_type": "code",
   "execution_count": 111,
   "metadata": {},
   "outputs": [
    {
     "data": {
      "text/plain": [
       "array(['Germany', 'Great Britain'], dtype=object)"
      ]
     },
     "execution_count": 111,
     "metadata": {},
     "output_type": "execute_result"
    }
   ],
   "source": [
    "data.country.unique()"
   ]
  },
  {
   "cell_type": "code",
   "execution_count": 112,
   "metadata": {},
   "outputs": [
    {
     "data": {
      "text/plain": [
       "array(['Consumer Electronic Stores', 'Mass Merchandisers/DIYSs'],\n",
       "      dtype=object)"
      ]
     },
     "execution_count": 112,
     "metadata": {},
     "output_type": "execute_result"
    }
   ],
   "source": [
    "data.channel.unique()"
   ]
  },
  {
   "cell_type": "code",
   "execution_count": 113,
   "metadata": {},
   "outputs": [],
   "source": [
    "# data['brand'].unique()"
   ]
  },
  {
   "cell_type": "code",
   "execution_count": 124,
   "metadata": {},
   "outputs": [
    {
     "data": {
      "text/plain": [
       "Index(['country', 'channel', 'brand', 'model', 'id', 'year', 'period',\n",
       "       'smart_connect', 'smart_h._ecosys', 'operating_ai', 'airplay',\n",
       "       'googlecast/home', 'bluetooth', 'ethernet', 'wifi', 'height_in_mm',\n",
       "       'width_in_mm', 'high-res_audio', 'type_of_docking', 'multiroom',\n",
       "       'no.speakerboxes', 'output_channel', 'streaming_connection',\n",
       "       'streaming_technology', 'usb_connection', 'wattage_total',\n",
       "       'sales_units', 'sales_value_eur', 'price_eur', 'sales_value_usd',\n",
       "       'price_usd'],\n",
       "      dtype='object')"
      ]
     },
     "execution_count": 124,
     "metadata": {},
     "output_type": "execute_result"
    }
   ],
   "source": [
    "data.columns"
   ]
  },
  {
   "cell_type": "code",
   "execution_count": null,
   "metadata": {},
   "outputs": [],
   "source": []
  },
  {
   "cell_type": "code",
   "execution_count": 131,
   "metadata": {},
   "outputs": [],
   "source": [
    "columnsLower = ['country', 'channel', 'year', \n",
    "       'smart_connect', 'smart_h._ecosys', 'operating_ai', 'airplay',\n",
    "       'googlecast/home', 'bluetooth', 'ethernet', 'wifi', 'high-res_audio', 'type_of_docking', 'multiroom',\n",
    "       'no.speakerboxes', 'output_channel', 'streaming_connection',\n",
    "       'streaming_technology', 'usb_connection', 'wattage_total']"
   ]
  },
  {
   "cell_type": "code",
   "execution_count": 135,
   "metadata": {},
   "outputs": [],
   "source": [
    "country_options = ['Germany' 'Great Britain']\n",
    "\n"
   ]
  },
  {
   "cell_type": "code",
   "execution_count": 134,
   "metadata": {},
   "outputs": [
    {
     "name": "stdout",
     "output_type": "stream",
     "text": [
      "country\n",
      "['Germany' 'Great Britain']\n",
      "channel\n",
      "['Consumer Electronic Stores' 'Mass Merchandisers/DIYSs']\n",
      "year\n",
      "[2016 2017 2018]\n",
      "smart_connect\n",
      "['SMART APP CTRL.' 'VOICE INTERAC.' 'VOICE CONT.ONLY' 'n.a.' 'NO' nan]\n",
      "smart_h._ecosys\n",
      "['n.a.' 'NOT APPLICABLE' 'GOOG+AMZN' 'AMAZON ALEXA' 'GOOGLE HOME'\n",
      " 'APPLE HOMEKIT' nan]\n",
      "operating_ai\n",
      "['n.a.' 'NOT APPLICABLE' 'GOOGLE ASSISTAN' 'APPLE SIRI' 'AMAZON ALEXA' nan]\n",
      "airplay\n",
      "['NO AIRPLAY' 'AIRPLAY' nan]\n",
      "googlecast/home\n",
      "['n.a.' 'NO GOOGLECAST' 'GOOGLECAST/HOME' nan]\n",
      "bluetooth\n",
      "['WITH BLUETOOTH' 'W/O BLUETOOTH' 'OPTIONAL' nan]\n",
      "ethernet\n",
      "['NO ETHERNET' 'ETHERNET' nan]\n",
      "wifi\n",
      "['WIFI BUILT-IN' 'NO WIFI' 'WIFI READY' nan]\n",
      "high-res_audio\n",
      "['NO HIGH-RES AUD' 'HIGH-RES AUDIO' 'n.a.' nan]\n",
      "type_of_docking\n",
      "['BLUETOOTH ONLY' 'NO DOCKING/STRE' 'IOS/AIRPLAY' 'OTH.DOCK/STREAM'\n",
      " 'ANDR/GOOGLE HOM' 'MULTIPLE']\n",
      "multiroom\n",
      "['MULTIROOM' 'NO MULTIROOM' nan]\n",
      "no.speakerboxes\n",
      "['1' 'n.a.' '0' '2']\n",
      "output_channel\n",
      "[2 0]\n",
      "streaming_connection\n",
      "['Bluetooth+Wifi' 'Bluetooth+Ethernet+Wifi' 'Wifi+Ethernet' 'Wifi'\n",
      " 'Ethernet' 'Bluetooth+Ethernet' nan]\n",
      "streaming_technology\n",
      "['BT+UPNP' 'Proprietary +BT' 'Bluetooth' 'n.a.' 'UPNP' 'BT+Airplay+UPNP'\n",
      " 'Proprietary +BT +Airplay +UPNP' 'Airplay+UPNP'\n",
      " 'BT+Airplay +UPNP +Google Cast/Home' 'Proprietary' 'Airplay'\n",
      " 'BT+UPNP +Google Cast/Home' 'BT+Google Cast/Home' 'Bluetooth+Airplay'\n",
      " 'BT+Airplay +Google Cast/Home' 'Proprietary +BT +Airplay'\n",
      " 'Proprietary+Airplay' nan]\n",
      "usb_connection\n",
      "['NO USB' 'USB TYPE-A/B' nan]\n",
      "wattage_total\n",
      "['unknown' '40' '70' '30' '110' '80' 'n.a.' '150' '90' '60' '45' '300' '5'\n",
      " '240' '140' '154' '50' '20' '29' '75' '14' '55' '92' '38' '15' '320' '25'\n",
      " '10' '72' '13' '100' '130' '200' '120' '18' '65' '250' '180' '175' '36'\n",
      " '17' '450' nan '35']\n"
     ]
    }
   ],
   "source": [
    "for col in columnsLower:\n",
    "    print(col)\n",
    "    print(data[col].unique())"
   ]
  },
  {
   "cell_type": "code",
   "execution_count": null,
   "metadata": {},
   "outputs": [],
   "source": []
  },
  {
   "cell_type": "code",
   "execution_count": null,
   "metadata": {},
   "outputs": [],
   "source": []
  },
  {
   "cell_type": "code",
   "execution_count": 78,
   "metadata": {},
   "outputs": [],
   "source": [
    "columnsLower = [\n",
    "       'smart_connect', 'smart_h._ecosys', 'operating_ai', 'airplay',\n",
    "       'googlecast/home', 'bluetooth', 'ethernet', 'wifi', 'height_in_mm',\n",
    "       'width_in_mm', 'high-res_audio', 'type_of_docking', 'multiroom',\n",
    "       'no.speakerboxes', 'output_channel', 'streaming_connection',\n",
    "       'streaming_technology', 'usb_connection', 'wattage_total',\n",
    "       'sales_units', 'sales_value_eur', 'price_eur', 'sales_value_usd',\n",
    "       'price_usd']"
   ]
  },
  {
   "cell_type": "code",
   "execution_count": null,
   "metadata": {},
   "outputs": [],
   "source": [
    "columnsLower = ['country', 'channel', 'brand', 'model', 'id', 'year', 'period',\n",
    "       'smart_connect', 'smart_h._ecosys', 'operating_ai', 'airplay',\n",
    "       'googlecast/home', 'bluetooth', 'ethernet', 'wifi', 'height_in_mm',\n",
    "       'width_in_mm', 'high-res_audio', 'type_of_docking', 'multiroom',\n",
    "       'no.speakerboxes', 'output_channel', 'streaming_connection',\n",
    "       'streaming_technology', 'usb_connection', 'wattage_total',\n",
    "       'sales_units', 'sales_value_eur', 'price_eur', 'sales_value_usd',\n",
    "       'price_usd']"
   ]
  },
  {
   "cell_type": "code",
   "execution_count": null,
   "metadata": {},
   "outputs": [],
   "source": []
  },
  {
   "cell_type": "code",
   "execution_count": null,
   "metadata": {},
   "outputs": [],
   "source": [
    "# pivot_data_table"
   ]
  },
  {
   "cell_type": "code",
   "execution_count": 61,
   "metadata": {},
   "outputs": [],
   "source": [
    "# data_stats_table"
   ]
  },
  {
   "cell_type": "code",
   "execution_count": null,
   "metadata": {},
   "outputs": [],
   "source": []
  },
  {
   "cell_type": "code",
   "execution_count": 65,
   "metadata": {},
   "outputs": [
    {
     "data": {
      "text/plain": [
       "Index(['country', 'channel', 'brand', 'model', 'id', 'year', 'period',\n",
       "       'smart_connect', 'smart_h._ecosys', 'operating_ai', 'airplay',\n",
       "       'googlecast/home', 'bluetooth', 'ethernet', 'wifi', 'height_in_mm',\n",
       "       'width_in_mm', 'high-res_audio', 'type_of_docking', 'multiroom',\n",
       "       'no.speakerboxes', 'output_channel', 'streaming_connection',\n",
       "       'streaming_technology', 'usb_connection', 'wattage_total',\n",
       "       'sales_units', 'sales_value_eur', 'price_eur', 'sales_value_usd',\n",
       "       'price_usd'],\n",
       "      dtype='object')"
      ]
     },
     "execution_count": 65,
     "metadata": {},
     "output_type": "execute_result"
    }
   ],
   "source": [
    "data.columns"
   ]
  },
  {
   "cell_type": "code",
   "execution_count": null,
   "metadata": {},
   "outputs": [],
   "source": []
  },
  {
   "cell_type": "code",
   "execution_count": null,
   "metadata": {},
   "outputs": [],
   "source": []
  },
  {
   "cell_type": "code",
   "execution_count": 63,
   "metadata": {},
   "outputs": [],
   "source": [
    "# collectedID = sort_by_id(data_stats_table)"
   ]
  },
  {
   "cell_type": "code",
   "execution_count": 64,
   "metadata": {},
   "outputs": [],
   "source": [
    "# collectedID"
   ]
  },
  {
   "cell_type": "code",
   "execution_count": 66,
   "metadata": {},
   "outputs": [],
   "source": [
    "# collectedID.columns"
   ]
  },
  {
   "cell_type": "code",
   "execution_count": 67,
   "metadata": {},
   "outputs": [
    {
     "data": {
      "text/plain": [
       "295"
      ]
     },
     "execution_count": 67,
     "metadata": {},
     "output_type": "execute_result"
    }
   ],
   "source": [
    "len(unique_ids)"
   ]
  },
  {
   "cell_type": "code",
   "execution_count": null,
   "metadata": {},
   "outputs": [],
   "source": []
  },
  {
   "cell_type": "code",
   "execution_count": null,
   "metadata": {},
   "outputs": [],
   "source": []
  },
  {
   "cell_type": "code",
   "execution_count": null,
   "metadata": {},
   "outputs": [],
   "source": []
  },
  {
   "cell_type": "code",
   "execution_count": null,
   "metadata": {},
   "outputs": [],
   "source": []
  },
  {
   "cell_type": "code",
   "execution_count": null,
   "metadata": {},
   "outputs": [],
   "source": []
  },
  {
   "cell_type": "code",
   "execution_count": null,
   "metadata": {},
   "outputs": [],
   "source": []
  },
  {
   "cell_type": "code",
   "execution_count": null,
   "metadata": {},
   "outputs": [],
   "source": []
  },
  {
   "cell_type": "code",
   "execution_count": null,
   "metadata": {},
   "outputs": [],
   "source": []
  },
  {
   "cell_type": "code",
   "execution_count": 19,
   "metadata": {},
   "outputs": [],
   "source": []
  },
  {
   "cell_type": "code",
   "execution_count": null,
   "metadata": {},
   "outputs": [],
   "source": []
  },
  {
   "cell_type": "code",
   "execution_count": null,
   "metadata": {},
   "outputs": [],
   "source": []
  },
  {
   "cell_type": "code",
   "execution_count": null,
   "metadata": {},
   "outputs": [],
   "source": []
  },
  {
   "cell_type": "code",
   "execution_count": null,
   "metadata": {
    "scrolled": true
   },
   "outputs": [],
   "source": []
  },
  {
   "cell_type": "code",
   "execution_count": null,
   "metadata": {},
   "outputs": [],
   "source": []
  },
  {
   "cell_type": "code",
   "execution_count": null,
   "metadata": {},
   "outputs": [],
   "source": []
  },
  {
   "cell_type": "code",
   "execution_count": null,
   "metadata": {},
   "outputs": [],
   "source": []
  },
  {
   "cell_type": "code",
   "execution_count": null,
   "metadata": {},
   "outputs": [],
   "source": []
  },
  {
   "cell_type": "code",
   "execution_count": null,
   "metadata": {},
   "outputs": [],
   "source": []
  },
  {
   "cell_type": "code",
   "execution_count": null,
   "metadata": {},
   "outputs": [],
   "source": []
  },
  {
   "cell_type": "code",
   "execution_count": null,
   "metadata": {},
   "outputs": [],
   "source": []
  },
  {
   "cell_type": "code",
   "execution_count": null,
   "metadata": {},
   "outputs": [],
   "source": []
  },
  {
   "cell_type": "code",
   "execution_count": null,
   "metadata": {},
   "outputs": [],
   "source": []
  },
  {
   "cell_type": "code",
   "execution_count": null,
   "metadata": {},
   "outputs": [],
   "source": []
  },
  {
   "cell_type": "code",
   "execution_count": null,
   "metadata": {},
   "outputs": [],
   "source": []
  },
  {
   "cell_type": "code",
   "execution_count": null,
   "metadata": {},
   "outputs": [],
   "source": []
  },
  {
   "cell_type": "code",
   "execution_count": null,
   "metadata": {},
   "outputs": [],
   "source": []
  },
  {
   "cell_type": "code",
   "execution_count": null,
   "metadata": {},
   "outputs": [],
   "source": []
  },
  {
   "cell_type": "code",
   "execution_count": null,
   "metadata": {},
   "outputs": [],
   "source": []
  },
  {
   "cell_type": "code",
   "execution_count": null,
   "metadata": {},
   "outputs": [],
   "source": []
  },
  {
   "cell_type": "code",
   "execution_count": null,
   "metadata": {},
   "outputs": [],
   "source": []
  },
  {
   "cell_type": "code",
   "execution_count": null,
   "metadata": {},
   "outputs": [],
   "source": []
  }
 ],
 "metadata": {
  "kernelspec": {
   "display_name": "Python 3",
   "language": "python",
   "name": "python3"
  },
  "language_info": {
   "codemirror_mode": {
    "name": "ipython",
    "version": 3
   },
   "file_extension": ".py",
   "mimetype": "text/x-python",
   "name": "python",
   "nbconvert_exporter": "python",
   "pygments_lexer": "ipython3",
   "version": "3.7.1"
  }
 },
 "nbformat": 4,
 "nbformat_minor": 2
}
